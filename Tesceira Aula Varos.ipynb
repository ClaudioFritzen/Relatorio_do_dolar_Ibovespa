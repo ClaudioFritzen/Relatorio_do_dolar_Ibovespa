{
 "cells": [
  {
   "cell_type": "markdown",
   "id": "7e40aa98",
   "metadata": {},
   "source": [
    "# o que é factor invest\n",
    "* risco maior\n"
   ]
  },
  {
   "cell_type": "markdown",
   "id": "bf3bbaf8",
   "metadata": {},
   "source": [
    "* bag test\n"
   ]
  },
  {
   "cell_type": "markdown",
   "id": "081b7016",
   "metadata": {},
   "source": [
    "# Projeto 3 - Fazendo um modelo de investimento com Python - Factor Investing no Ibovespa.\n",
    "\n"
   ]
  },
  {
   "cell_type": "markdown",
   "id": "603ae5ef",
   "metadata": {},
   "source": [
    "# Desafio\n",
    "    * Construir um código que faça um backtesting dos últimos 6 anos, escolhendo as 10 melhores ações do indice ibovespa e utilizando como critério o fator momento 6 meses.\n",
    "    \n",
    "    ## Passoa passo da estratégia\n",
    "        * Passo 1 - Definir um universo investivel.\n",
    "        * Passo 2 - Escolher o fator que servirá como critério para criação dos rankings\n",
    "        * Passo 3 - Escolher o periodo de teste\n",
    "        * Passo 4 - Escolher o numero de ações na carteira.\n",
    "        * Passo 5 - Definir o periodo de balanceamento. De quanto em quanto tempo a carteira muda._\n",
    "        \n",
    "        \n",
    "        \n",
    "     ## Passo a passo do codigo\n",
    "         * Passo 1 - Ler a composição historíca do Ibovespa e os tickers que ja passaram pelo indice.\n",
    "         * Passo 2 - Puxar as cotações de todas as empresas que farão parte do backtest.\n",
    "         * Passo 3 - Transformar o indice em data e ordenar a serie de tempo\n",
    "         * Passo 4 - Calcular o retorno 6 meses e ajutar a tabela com o fator.\n",
    "         * Passo 5 - Classificar e retirar empresas que não participaram do Ibovespa no periodo de tempo selecionado.\n",
    "         * Passo 6 - Criar as carteiras de investimento em uma matriz de 0 ou 1.\n",
    "         * Passo 7 - Calcular o retorno mensal das empresas no periodo de backtest.\n",
    "         * Passo 8 - Cruzar a matriz de retorno mensal com a matriz das carteiras para chegar na rentabilidade do modelo.\n",
    "         * Passp 9 - Puxar e calcular a rentabilidade do Ibovespa no periodo\n",
    "         "
   ]
  }
 ],
 "metadata": {
  "kernelspec": {
   "display_name": "Python 3 (ipykernel)",
   "language": "python",
   "name": "python3"
  },
  "language_info": {
   "codemirror_mode": {
    "name": "ipython",
    "version": 3
   },
   "file_extension": ".py",
   "mimetype": "text/x-python",
   "name": "python",
   "nbconvert_exporter": "python",
   "pygments_lexer": "ipython3",
   "version": "3.9.13"
  }
 },
 "nbformat": 4,
 "nbformat_minor": 5
}
